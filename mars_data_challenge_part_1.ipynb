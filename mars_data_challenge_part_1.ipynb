{
 "cells": [
  {
   "cell_type": "code",
   "execution_count": 25,
   "metadata": {},
   "outputs": [],
   "source": [
    "from splinter import Browser\n",
    "from bs4 import BeautifulSoup\n",
    "from webdriver_manager.chrome import ChromeDriverManager"
   ]
  },
  {
   "cell_type": "code",
   "execution_count": 26,
   "metadata": {},
   "outputs": [],
   "source": [
    "executable_path = {'executable_path': ChromeDriverManager().install()}\n",
    "browser = Browser('chrome', **executable_path, headless=False)"
   ]
  },
  {
   "cell_type": "code",
   "execution_count": 27,
   "metadata": {},
   "outputs": [],
   "source": [
    "url = 'https://redplanetscience.com/'\n",
    "browser.visit(url)"
   ]
  },
  {
   "cell_type": "code",
   "execution_count": 28,
   "metadata": {},
   "outputs": [],
   "source": [
    "for x in range(1, 6):\n",
    "    html = browser.html\n",
    "    soup = BeautifulSoup(html, 'html.parser')\n",
    "\n",
    "    news_list = soup.find_all('div',class_='list_text')\n",
    "\n",
    "    \n",
    "    # Make a empty list and insert the dictionary result\n",
    "    news_result_list=[]\n",
    "    for news in news_list:\n",
    "        news_title = news.find('div',class_='content_title').text\n",
    "        news_preview = news.find('div',class_='article_teaser_body').text\n",
    "        news_result_list.append({'title':news_title,'preview':news_preview})\n",
    "\n",
    "    # Capture the button and click to next page\n",
    "    browser.find_by_tag('button').first.click()\n",
    " "
   ]
  },
  {
   "cell_type": "code",
   "execution_count": 29,
   "metadata": {},
   "outputs": [
    {
     "name": "stdout",
     "output_type": "stream",
     "text": [
      "[{'preview': 'Vast areas of the Martian night sky pulse in ultraviolet light, '\n",
      "             'according to images from NASA’s MAVEN spacecraft. The results '\n",
      "             'are being used to illuminate complex circulation patterns in the '\n",
      "             'Martian atmosphere.',\n",
      "  'title': \"NASA's MAVEN Observes Martian Night Sky Pulsing in Ultraviolet \"\n",
      "           'Light'},\n",
      " {'preview': 'With a targeted launch date of July 30, the next robotic '\n",
      "             'scientist NASA is sending to the to the Red Planet has big '\n",
      "             'ambitions.',\n",
      "  'title': \"A New Video Captures the Science of NASA's Perseverance Mars \"\n",
      "           'Rover'},\n",
      " {'preview': 'Perseverance is one of a few Mars spacecraft carrying laser '\n",
      "             'retroreflectors. The devices could provide new science and safer '\n",
      "             'Mars landings in the future.',\n",
      "  'title': \"NASA's New Mars Rover Is Ready for Space Lasers\"},\n",
      " {'preview': 'Engineers have a plan for pushing down on the heat probe, which '\n",
      "             'has been stuck at the Martian surface for a year.',\n",
      "  'title': \"Mars InSight Lander to Push on Top of the 'Mole'\"},\n",
      " {'preview': \"Now that the lander's robotic arm has helped the mole get \"\n",
      "             'underground, it will resume science activities that have been on '\n",
      "             'hold.',\n",
      "  'title': \"NASA's InSight Flexes Its Arm While Its 'Mole' Hits Pause\"},\n",
      " {'preview': 'NASA and the Department of Energy have completed a more detailed '\n",
      "             'risk analysis for the Mars 2020 rover launch from Florida.',\n",
      "  'title': 'NASA Updates Mars 2020 Mission Environmental Review'},\n",
      " {'preview': 'The small craft will seek to prove that powered, controlled '\n",
      "             'flight is possible on another planet. But just getting it onto '\n",
      "             'the surface of Mars will take a whole lot of ingenuity.',\n",
      "  'title': \"How NASA's Mars Helicopter Will Reach the Red Planet's Surface\"},\n",
      " {'preview': 'Scientists using an instrument aboard NASA’s Mars Atmosphere and '\n",
      "             'Volatile EvolutioN, or MAVEN, spacecraft have discovered that '\n",
      "             'water vapor near the surface of the Red Planet is lofted higher '\n",
      "             'into the atmosphere than anyone expected was possible. ',\n",
      "  'title': 'Heat and Dust Help Launch Martian Water Into Space, Scientists '\n",
      "           'Find'},\n",
      " {'preview': \"NASA's Perseverance rover carries a device to convert Martian \"\n",
      "             'air into oxygen that, if produced on a larger scale, could be '\n",
      "             'used not just for breathing, but also for fuel.',\n",
      "  'title': 'MOXIE Could Help Future Rockets Launch Off Mars'},\n",
      " {'preview': \"The team also fueled the rover's sky crane to get ready for this \"\n",
      "             \"summer's history-making launch.\",\n",
      "  'title': \"Mars Helicopter Attached to NASA's Perseverance Rover\"},\n",
      " {'preview': 'Scientists are finding new mysteries since the geophysics '\n",
      "             'mission landed two years ago.',\n",
      "  'title': \"3 Things We've Learned From NASA's Mars InSight \"},\n",
      " {'preview': 'In time-lapse video, taken at JPL, captures the first time '\n",
      "             \"NASA's Mars 2020 rover carries its full weight on its legs and \"\n",
      "             'wheels.',\n",
      "  'title': 'Mars 2020 Stands on Its Own Six Wheels'},\n",
      " {'preview': 'Team members searched for signs of ancient microscopic life '\n",
      "             \"there, just as NASA's latest rover will on the Red Planet next \"\n",
      "             'year.',\n",
      "  'title': 'NASA Perseverance Mars Rover Scientists Train in the Nevada '\n",
      "           'Desert'},\n",
      " {'preview': 'Marking its 15th anniversary since launch, one of the oldest '\n",
      "             'spacecraft at the Red Planet has provided glimpses of dust '\n",
      "             'devils, avalanches, and more.',\n",
      "  'title': \"Celebrate Mars Reconnaissance Orbiter's Views From Above\"},\n",
      " {'preview': 'Want to name the robotic scientist NASA is sending to Mars in '\n",
      "             '2020? The student who named Curiosity — the rover currently '\n",
      "             'exploring Mars — will tell you this is an opportunity worth '\n",
      "             'taking.',\n",
      "  'title': 'Naming a NASA Mars Rover Can Change Your Life'}]\n"
     ]
    }
   ],
   "source": [
    "# Print out the results\n",
    "import pprint as pp\n",
    "pp.pprint(news_result_list)\n",
    "\n"
   ]
  },
  {
   "cell_type": "code",
   "execution_count": 30,
   "metadata": {},
   "outputs": [],
   "source": [
    "browser.quit()"
   ]
  }
 ],
 "metadata": {
  "kernelspec": {
   "display_name": "Python 3.10.4 ('PythonData')",
   "language": "python",
   "name": "python3"
  },
  "language_info": {
   "codemirror_mode": {
    "name": "ipython",
    "version": 3
   },
   "file_extension": ".py",
   "mimetype": "text/x-python",
   "name": "python",
   "nbconvert_exporter": "python",
   "pygments_lexer": "ipython3",
   "version": "3.10.4"
  },
  "orig_nbformat": 4,
  "vscode": {
   "interpreter": {
    "hash": "0d50397dabfa9a816f0b2bb17b02cf6912088a0836263e0b871ec0c8e7b3e328"
   }
  }
 },
 "nbformat": 4,
 "nbformat_minor": 2
}
