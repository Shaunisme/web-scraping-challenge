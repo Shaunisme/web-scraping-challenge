{
 "cells": [
  {
   "cell_type": "code",
   "execution_count": 4,
   "metadata": {},
   "outputs": [],
   "source": [
    "import pandas as pd\n",
    "import matplotlib.pyplot as plt\n",
    "from splinter import Browser\n",
    "from bs4 import BeautifulSoup\n",
    "from webdriver_manager.chrome import ChromeDriverManager"
   ]
  },
  {
   "cell_type": "code",
   "execution_count": 5,
   "metadata": {},
   "outputs": [],
   "source": [
    "executable_path = {'executable_path': ChromeDriverManager().install()}\n",
    "browser = Browser('chrome', **executable_path, headless=False)"
   ]
  },
  {
   "cell_type": "code",
   "execution_count": 6,
   "metadata": {},
   "outputs": [],
   "source": [
    "url = 'https://data-class-mars-challenge.s3.amazonaws.com/Mars/index.html'\n",
    "browser.visit(url)"
   ]
  },
  {
   "cell_type": "code",
   "execution_count": 7,
   "metadata": {},
   "outputs": [],
   "source": [
    "html = browser.html\n",
    "soup = BeautifulSoup(html, 'html.parser')\n",
    "\n",
    "# Get the columns name and columns number in the table\n",
    "#columns_block=soup.find('tr')\n",
    "\n",
    "columns_list=soup.find_all('th')\n",
    "columns=[]\n",
    "for column in columns_list:\n",
    "    columns.append(column.text)\n",
    "\n",
    "col_num=len(columns)"
   ]
  },
  {
   "cell_type": "markdown",
   "metadata": {},
   "source": [
    "#### Scrape data and make a list array"
   ]
  },
  {
   "cell_type": "code",
   "execution_count": 8,
   "metadata": {},
   "outputs": [],
   "source": [
    "# Init a empty list array\n",
    "datalist=[]\n",
    "for i in range(col_num):\n",
    "    datalist.append([])\n",
    "\n",
    "# Find all rows\n",
    "row_blocks = soup.find_all('tr',class_='data-row')\n",
    "\n",
    "# Every row\n",
    "for row in row_blocks:\n",
    "    # Every column\n",
    "    datas =row.find_all('td')\n",
    "\n",
    "    # Fill the list array\n",
    "    j=0\n",
    "    for data in datas:\n",
    "        datalist[j].append(data.text)\n",
    "        j=j+1 "
   ]
  },
  {
   "cell_type": "markdown",
   "metadata": {},
   "source": [
    "#### Combine the list array to a dataframe"
   ]
  },
  {
   "cell_type": "code",
   "execution_count": 9,
   "metadata": {},
   "outputs": [],
   "source": [
    "# Init a empty dataframe\n",
    "df=pd.DataFrame([],[])\n",
    "# Add every column to dataframe\n",
    "for i in range(col_num):\n",
    "    df[f'{columns[i]}']=datalist[i]"
   ]
  },
  {
   "cell_type": "code",
   "execution_count": 10,
   "metadata": {},
   "outputs": [
    {
     "data": {
      "text/html": [
       "<div>\n",
       "<style scoped>\n",
       "    .dataframe tbody tr th:only-of-type {\n",
       "        vertical-align: middle;\n",
       "    }\n",
       "\n",
       "    .dataframe tbody tr th {\n",
       "        vertical-align: top;\n",
       "    }\n",
       "\n",
       "    .dataframe thead th {\n",
       "        text-align: right;\n",
       "    }\n",
       "</style>\n",
       "<table border=\"1\" class=\"dataframe\">\n",
       "  <thead>\n",
       "    <tr style=\"text-align: right;\">\n",
       "      <th></th>\n",
       "      <th>id</th>\n",
       "      <th>terrestrial_date</th>\n",
       "      <th>sol</th>\n",
       "      <th>ls</th>\n",
       "      <th>month</th>\n",
       "      <th>min_temp</th>\n",
       "      <th>pressure</th>\n",
       "    </tr>\n",
       "  </thead>\n",
       "  <tbody>\n",
       "    <tr>\n",
       "      <th>0</th>\n",
       "      <td>2</td>\n",
       "      <td>2012-08-16</td>\n",
       "      <td>10</td>\n",
       "      <td>155</td>\n",
       "      <td>6</td>\n",
       "      <td>-75.0</td>\n",
       "      <td>739.0</td>\n",
       "    </tr>\n",
       "    <tr>\n",
       "      <th>1</th>\n",
       "      <td>13</td>\n",
       "      <td>2012-08-17</td>\n",
       "      <td>11</td>\n",
       "      <td>156</td>\n",
       "      <td>6</td>\n",
       "      <td>-76.0</td>\n",
       "      <td>740.0</td>\n",
       "    </tr>\n",
       "    <tr>\n",
       "      <th>2</th>\n",
       "      <td>24</td>\n",
       "      <td>2012-08-18</td>\n",
       "      <td>12</td>\n",
       "      <td>156</td>\n",
       "      <td>6</td>\n",
       "      <td>-76.0</td>\n",
       "      <td>741.0</td>\n",
       "    </tr>\n",
       "    <tr>\n",
       "      <th>3</th>\n",
       "      <td>35</td>\n",
       "      <td>2012-08-19</td>\n",
       "      <td>13</td>\n",
       "      <td>157</td>\n",
       "      <td>6</td>\n",
       "      <td>-74.0</td>\n",
       "      <td>732.0</td>\n",
       "    </tr>\n",
       "    <tr>\n",
       "      <th>4</th>\n",
       "      <td>46</td>\n",
       "      <td>2012-08-20</td>\n",
       "      <td>14</td>\n",
       "      <td>157</td>\n",
       "      <td>6</td>\n",
       "      <td>-74.0</td>\n",
       "      <td>740.0</td>\n",
       "    </tr>\n",
       "  </tbody>\n",
       "</table>\n",
       "</div>"
      ],
      "text/plain": [
       "   id terrestrial_date sol   ls month min_temp pressure\n",
       "0   2       2012-08-16  10  155     6    -75.0    739.0\n",
       "1  13       2012-08-17  11  156     6    -76.0    740.0\n",
       "2  24       2012-08-18  12  156     6    -76.0    741.0\n",
       "3  35       2012-08-19  13  157     6    -74.0    732.0\n",
       "4  46       2012-08-20  14  157     6    -74.0    740.0"
      ]
     },
     "execution_count": 10,
     "metadata": {},
     "output_type": "execute_result"
    }
   ],
   "source": [
    "df.head(5)"
   ]
  },
  {
   "cell_type": "markdown",
   "metadata": {},
   "source": [
    "#### Set the data type"
   ]
  },
  {
   "cell_type": "code",
   "execution_count": 11,
   "metadata": {},
   "outputs": [
    {
     "data": {
      "text/plain": [
       "id                           int32\n",
       "terrestrial_date    datetime64[ns]\n",
       "sol                          int32\n",
       "ls                           int32\n",
       "month                        int32\n",
       "min_temp                   float64\n",
       "pressure                   float64\n",
       "dtype: object"
      ]
     },
     "execution_count": 11,
     "metadata": {},
     "output_type": "execute_result"
    }
   ],
   "source": [
    "# Set the data type of columns\n",
    "new_df=df.astype({'id':'int32',\n",
    "        'terrestrial_date':'datetime64[ns]',\n",
    "        'sol':'int32',\n",
    "        'ls':'int32',\n",
    "        'month':'int32',\n",
    "        'min_temp':'float',\n",
    "        'pressure':'float'}.copy()\n",
    "    ) \n",
    "new_df.dtypes"
   ]
  },
  {
   "cell_type": "markdown",
   "metadata": {},
   "source": [
    "### How many months exist on Mars?"
   ]
  },
  {
   "cell_type": "code",
   "execution_count": 12,
   "metadata": {},
   "outputs": [
    {
     "name": "stdout",
     "output_type": "stream",
     "text": [
      "There are 12 months on Mars.\n"
     ]
    }
   ],
   "source": [
    "month=list(new_df['month'].unique())\n",
    "\n",
    "print(f'There are {len(month)} months on Mars.')"
   ]
  },
  {
   "cell_type": "markdown",
   "metadata": {},
   "source": [
    "### How many Martian (and not Earth) days' worth of data exist in the scraped dataset?"
   ]
  },
  {
   "cell_type": "code",
   "execution_count": 13,
   "metadata": {},
   "outputs": [
    {
     "name": "stdout",
     "output_type": "stream",
     "text": [
      "There are 1867 Martian days worth of data exist in the scraped dataset\n"
     ]
    }
   ],
   "source": [
    "day=list(new_df['sol'].unique())\n",
    "\n",
    "print(f'There are {len(day)} Martian days worth of data exist in the scraped dataset')"
   ]
  },
  {
   "cell_type": "markdown",
   "metadata": {},
   "source": [
    "### What are the coldest and the warmest months on Mars (at the location of Curiosity)? "
   ]
  },
  {
   "cell_type": "code",
   "execution_count": 14,
   "metadata": {},
   "outputs": [
    {
     "name": "stdout",
     "output_type": "stream",
     "text": [
      "The coldest months on Mars is 3.\n",
      "The warmest months on Mars is 8.\n"
     ]
    }
   ],
   "source": [
    "gy=new_df.groupby(by=[\"month\"]).mean()\n",
    "\n",
    "min_temp=list(gy['min_temp'])\n",
    "max_t=max(min_temp)\n",
    "min_t=min(min_temp)\n",
    "index_max = min_temp.index(max_t)\n",
    "index_min = min_temp.index(min_t)\n",
    "print(f'The coldest months on Mars is {index_min+1}.')\n",
    "print(f'The warmest months on Mars is {index_max+1}.')"
   ]
  },
  {
   "cell_type": "code",
   "execution_count": 15,
   "metadata": {},
   "outputs": [
    {
     "data": {
      "image/png": "[encoded data removed]",
      "text/plain": [
       "<Figure size 432x288 with 1 Axes>"
      ]
     },
     "metadata": {
      "needs_background": "light"
     },
     "output_type": "display_data"
    }
   ],
   "source": [
    "gy.reset_index('month',inplace=True)\n",
    "temp_df=pd.DataFrame({'Month':list(gy['month']), 'Temperature':list(gy['min_temp'])})\n",
    "temp_df.set_index('Month',inplace=True)\n",
    "\n",
    "temp_df.plot.bar(title='Averaging Minimum Daily Temperature Of Months On Mars',xlabel='Month',ylabel='Temperature',rot=0,grid=True)\n",
    "plt.show()"
   ]
  },
  {
   "cell_type": "markdown",
   "metadata": {},
   "source": [
    "### Which months have the lowest and the highest atmospheric pressure on Mars? "
   ]
  },
  {
   "cell_type": "code",
   "execution_count": 16,
   "metadata": {},
   "outputs": [
    {
     "name": "stdout",
     "output_type": "stream",
     "text": [
      "The lowest atmospheric pressure month on Mars is 6.\n",
      "The highest atmospheric pressureon month on Mars is 9.\n"
     ]
    }
   ],
   "source": [
    "gy=new_df.groupby(by=[\"month\"]).mean()\n",
    "\n",
    "pressure=list(gy['pressure'])\n",
    "max_p=max(pressure)\n",
    "min_p=min(pressure)\n",
    "index_max = pressure.index(max_p)\n",
    "index_min = pressure.index(min_p)\n",
    "print(f'The lowest atmospheric pressure month on Mars is {index_min+1}.')\n",
    "print(f'The highest atmospheric pressureon month on Mars is {index_max+1}.')"
   ]
  },
  {
   "cell_type": "code",
   "execution_count": 17,
   "metadata": {},
   "outputs": [
    {
     "data": {
      "image/png": "[encoded data removed]",
      "text/plain": [
       "<Figure size 432x288 with 1 Axes>"
      ]
     },
     "metadata": {
      "needs_background": "light"
     },
     "output_type": "display_data"
    }
   ],
   "source": [
    "gy.reset_index('month',inplace=True)\n",
    "pres_df=pd.DataFrame({'Month':list(gy['month']), 'Pressure':list(gy['pressure'])})\n",
    "pres_df.set_index('Month',inplace=True)\n",
    "\n",
    "pres_df.plot.bar(title='Averaging Minimum Daily Atmospheric Pressure Of Months On Mars',xlabel='Month',ylabel='Pressure',rot=0,grid=True)\n",
    "plt.show()"
   ]
  },
  {
   "cell_type": "markdown",
   "metadata": {},
   "source": [
    "### According the scatter plot, two Earth years, almost 730 terrestrial (Earth) days exist in a Martian year."
   ]
  },
  {
   "cell_type": "code",
   "execution_count": 20,
   "metadata": {},
   "outputs": [
    {
     "data": {
      "image/png": "[encoded data removed]",
      "text/plain": [
       "<Figure size 864x288 with 1 Axes>"
      ]
     },
     "metadata": {
      "needs_background": "light"
     },
     "output_type": "display_data"
    }
   ],
   "source": [
    "temp_df=new_df[['terrestrial_date','min_temp']]\n",
    "temp_df.plot.scatter(x='terrestrial_date',y='min_temp',grid=True,figsize=(12,4))\n",
    "plt.show()"
   ]
  },
  {
   "cell_type": "code",
   "execution_count": 19,
   "metadata": {},
   "outputs": [],
   "source": [
    "df.to_csv('mars_data.csv')"
   ]
  }
 ],
 "metadata": {
  "kernelspec": {
   "display_name": "Python 3.10.4 ('PythonData')",
   "language": "python",
   "name": "python3"
  },
  "language_info": {
   "codemirror_mode": {
    "name": "ipython",
    "version": 3
   },
   "file_extension": ".py",
   "mimetype": "text/x-python",
   "name": "python",
   "nbconvert_exporter": "python",
   "pygments_lexer": "ipython3",
   "version": "3.10.4"
  },
  "orig_nbformat": 4,
  "vscode": {
   "interpreter": {
    "hash": "0d50397dabfa9a816f0b2bb17b02cf6912088a0836263e0b871ec0c8e7b3e328"
   }
  }
 },
 "nbformat": 4,
 "nbformat_minor": 2
}
