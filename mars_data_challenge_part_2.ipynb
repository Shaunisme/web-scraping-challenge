{
 "cells": [
  {
   "cell_type": "code",
   "execution_count": 1,
   "metadata": {},
   "outputs": [],
   "source": [
    "from splinter import Browser\n",
    "from bs4 import BeautifulSoup\n",
    "from webdriver_manager.chrome import ChromeDriverManager"
   ]
  },
  {
   "cell_type": "code",
   "execution_count": 2,
   "metadata": {},
   "outputs": [],
   "source": [
    "executable_path = {'executable_path': ChromeDriverManager().install()}\n",
    "browser = Browser('chrome', **executable_path, headless=False)"
   ]
  },
  {
   "cell_type": "code",
   "execution_count": 3,
   "metadata": {},
   "outputs": [],
   "source": [
    "url = 'https://data-class-mars-challenge.s3.amazonaws.com/Mars/index.html'\n",
    "browser.visit(url)"
   ]
  },
  {
   "cell_type": "code",
   "execution_count": 5,
   "metadata": {},
   "outputs": [
    {
     "name": "stdout",
     "output_type": "stream",
     "text": [
      "['id', 'terrestrial_date', 'sol', 'ls', 'month', 'min_temp', 'pressure']\n",
      "7\n",
      "[]\n",
      "[]\n",
      "[]\n",
      "[]\n",
      "[]\n",
      "[]\n",
      "[]\n"
     ]
    },
    {
     "data": {
      "text/plain": [
       "\" row_blocks = soup.find_all('tr',class_='data_row')\\n\\n# Make a empty list and insert the dictionary result\\nfor row in row_blocks:\\n    datas =row.find_all('td')\\n    j=0\\n    for data in datas:\\n        print(data)\\n        columns[j].append(data.text)\\n    j=j+1 \""
      ]
     },
     "execution_count": 5,
     "metadata": {},
     "output_type": "execute_result"
    }
   ],
   "source": [
    "html = browser.html\n",
    "soup = BeautifulSoup(html, 'html.parser')\n",
    "\n",
    "# Get the columns name and columns number in the table\n",
    "#columns_block=soup.find('tr')\n",
    "\n",
    "columns_list=soup.find_all('th')\n",
    "columns=[]\n",
    "for column in columns_list:\n",
    "    columns.append(column.text)\n",
    "\n",
    "col_num=len(columns)\n",
    "print(columns)\n",
    "print(col_num)\n",
    "\n",
    "i=0\n",
    "for i in range(col_num):\n",
    "    columns[i]=[]\n",
    "    print(columns[i])\n",
    "\n",
    "\"\"\" row_blocks = soup.find_all('tr',class_='data_row')\n",
    "\n",
    "# Make a empty list and insert the dictionary result\n",
    "for row in row_blocks:\n",
    "    datas =row.find_all('td')\n",
    "    j=0\n",
    "    for data in datas:\n",
    "        print(data)\n",
    "        columns[j].append(data.text)\n",
    "    j=j+1 \"\"\"\n",
    "\n"
   ]
  }
 ],
 "metadata": {
  "kernelspec": {
   "display_name": "Python 3.10.4 ('PythonData')",
   "language": "python",
   "name": "python3"
  },
  "language_info": {
   "codemirror_mode": {
    "name": "ipython",
    "version": 3
   },
   "file_extension": ".py",
   "mimetype": "text/x-python",
   "name": "python",
   "nbconvert_exporter": "python",
   "pygments_lexer": "ipython3",
   "version": "3.10.4"
  },
  "orig_nbformat": 4,
  "vscode": {
   "interpreter": {
    "hash": "0d50397dabfa9a816f0b2bb17b02cf6912088a0836263e0b871ec0c8e7b3e328"
   }
  }
 },
 "nbformat": 4,
 "nbformat_minor": 2
}
